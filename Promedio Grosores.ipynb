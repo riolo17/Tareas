{
 "cells": [
  {
   "cell_type": "code",
   "execution_count": 3,
   "id": "3ba62ea1",
   "metadata": {},
   "outputs": [],
   "source": [
    "import pandas as pd\n",
    "import numpy as np"
   ]
  },
  {
   "cell_type": "code",
   "execution_count": 5,
   "id": "56a7e61d",
   "metadata": {},
   "outputs": [
    {
     "name": "stdout",
     "output_type": "stream",
     "text": [
      "Promedio: 84.9724\n",
      "Desviación estándar: 3.1324891125110086\n"
     ]
    }
   ],
   "source": [
    "# Leer los datos del archivo .csv\n",
    "# Asegúrate de reemplazar 'ruta_a_tu_archivo.csv' con la ruta real de tu archivo .csv\n",
    "df1 = pd.read_csv('M1_Vert.csv')\n",
    "\n",
    "# Supongamos que los grosores están en una columna llamada 'Grosor'\n",
    "grosor1 = df1['Length']\n",
    "\n",
    "# Calcular el promedio\n",
    "promedio1 = np.mean(grosor1)\n",
    "\n",
    "# Calcular la desviación estándar\n",
    "desviacion_estandar1 = np.std(grosor1)\n",
    "\n",
    "# Imprimir los resultados\n",
    "print(f'Promedio: {promedio1}')\n",
    "print(f'Desviación estándar: {desviacion_estandar1}')"
   ]
  },
  {
   "cell_type": "code",
   "execution_count": 6,
   "id": "451b382e",
   "metadata": {},
   "outputs": [
    {
     "name": "stdout",
     "output_type": "stream",
     "text": [
      "Promedio: 103.49160000000002\n",
      "Desviación estándar: 2.355767059791776\n"
     ]
    }
   ],
   "source": [
    "# Leer los datos del archivo .csv\n",
    "# Asegúrate de reemplazar 'ruta_a_tu_archivo.csv' con la ruta real de tu archivo .csv\n",
    "df2 = pd.read_csv('M2_Vert.csv')\n",
    "\n",
    "# Supongamos que los grosores están en una columna llamada 'Grosor'\n",
    "grosor2 = df2['Length']\n",
    "\n",
    "# Calcular el promedio\n",
    "promedio2 = np.mean(grosor2)\n",
    "\n",
    "# Calcular la desviación estándar\n",
    "desviacion_estandar2 = np.std(grosor2)\n",
    "\n",
    "# Imprimir los resultados\n",
    "print(f'Promedio: {promedio2}')\n",
    "print(f'Desviación estándar: {desviacion_estandar2}')"
   ]
  },
  {
   "cell_type": "code",
   "execution_count": 7,
   "id": "d3368ad7",
   "metadata": {},
   "outputs": [
    {
     "name": "stdout",
     "output_type": "stream",
     "text": [
      "Promedio: 91.23569999999998\n",
      "Desviación estándar: 3.2558951779810106\n"
     ]
    }
   ],
   "source": [
    "# Leer los datos del archivo .csv\n",
    "# Asegúrate de reemplazar 'ruta_a_tu_archivo.csv' con la ruta real de tu archivo .csv\n",
    "df3 = pd.read_csv('M3_Vert.csv')\n",
    "\n",
    "# Supongamos que los grosores están en una columna llamada 'Grosor'\n",
    "grosor3 = df3['Length']\n",
    "\n",
    "# Calcular el promedio\n",
    "promedio3 = np.mean(grosor3)\n",
    "\n",
    "# Calcular la desviación estándar\n",
    "desviacion_estandar3 = np.std(grosor3)\n",
    "\n",
    "# Imprimir los resultados\n",
    "print(f'Promedio: {promedio3}')\n",
    "print(f'Desviación estándar: {desviacion_estandar3}')"
   ]
  },
  {
   "cell_type": "code",
   "execution_count": 8,
   "id": "8198ba94",
   "metadata": {},
   "outputs": [
    {
     "name": "stdout",
     "output_type": "stream",
     "text": [
      "Promedio: 92.2261\n",
      "Desviación estándar: 1.540320190739574\n"
     ]
    }
   ],
   "source": [
    "# Leer los datos del archivo .csv\n",
    "# Asegúrate de reemplazar 'ruta_a_tu_archivo.csv' con la ruta real de tu archivo .csv\n",
    "df4 = pd.read_csv('M4_Vert.csv')\n",
    "\n",
    "# Supongamos que los grosores están en una columna llamada 'Grosor'\n",
    "grosor4 = df4['Length']\n",
    "\n",
    "# Calcular el promedio\n",
    "promedio4 = np.mean(grosor4)\n",
    "\n",
    "# Calcular la desviación estándar\n",
    "desviacion_estandar4 = np.std(grosor4)\n",
    "\n",
    "# Imprimir los resultados\n",
    "print(f'Promedio: {promedio4}')\n",
    "print(f'Desviación estándar: {desviacion_estandar4}')"
   ]
  },
  {
   "cell_type": "code",
   "execution_count": null,
   "id": "f9c22dd8",
   "metadata": {},
   "outputs": [],
   "source": []
  }
 ],
 "metadata": {
  "kernelspec": {
   "display_name": "Python 3 (ipykernel)",
   "language": "python",
   "name": "python3"
  },
  "language_info": {
   "codemirror_mode": {
    "name": "ipython",
    "version": 3
   },
   "file_extension": ".py",
   "mimetype": "text/x-python",
   "name": "python",
   "nbconvert_exporter": "python",
   "pygments_lexer": "ipython3",
   "version": "3.9.13"
  }
 },
 "nbformat": 4,
 "nbformat_minor": 5
}
